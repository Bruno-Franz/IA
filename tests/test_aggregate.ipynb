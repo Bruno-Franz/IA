{
 "cells": [
  {
   "cell_type": "code",
   "execution_count": null,
   "id": "be9690d8",
   "metadata": {},
   "outputs": [],
   "source": [
    "\"\"\"Testes para a função de agregação de resultados.\"\"\"\n",
    "import pandas as pd\n",
    "import pytest"
   ]
  },
  {
   "cell_type": "code",
   "execution_count": null,
   "id": "6ce52560",
   "metadata": {},
   "outputs": [],
   "source": [
    "from avaliacao import agregar_resultados"
   ]
  },
  {
   "cell_type": "code",
   "execution_count": null,
   "id": "498c4578",
   "metadata": {},
   "outputs": [],
   "source": [
    "def test_agregar_resultados_grupos_e_medias(tmp_path):\n",
    "    data = [\n",
    "        {\n",
    "            \"dataset\": \"A\",\n",
    "            \"method\": \"M1\",\n",
    "            \"accuracy\": 0.8,\n",
    "            \"precision\": 0.7,\n",
    "            \"recall\": 0.8,\n",
    "            \"f1\": 0.75,\n",
    "            \"duration\": 1.0,\n",
    "        },\n",
    "        {\n",
    "            \"dataset\": \"A\",\n",
    "            \"method\": \"M1\",\n",
    "            \"accuracy\": 0.9,\n",
    "            \"precision\": 0.8,\n",
    "            \"recall\": 0.9,\n",
    "            \"f1\": 0.85,\n",
    "            \"duration\": 2.0,\n",
    "        },\n",
    "        {\n",
    "            \"dataset\": \"B\",\n",
    "            \"method\": \"M2\",\n",
    "            \"accuracy\": 1.0,\n",
    "            \"precision\": 1.0,\n",
    "            \"recall\": 1.0,\n",
    "            \"f1\": 1.0,\n",
    "            \"duration\": 3.0,\n",
    "        },\n",
    "    ]\n",
    "    df = pd.DataFrame(data)\n",
    "    csv_path = tmp_path / \"res.csv\"\n",
    "    df.to_csv(csv_path, index=False)\n",
    "\n",
    "    results = agregar_resultados(str(csv_path))\n",
    "\n",
    "    assert set(results.keys()) == {\"A\", \"B\"}\n",
    "    a_table = results[\"A\"]\n",
    "    assert a_table.shape[0] == 1\n",
    "    row = a_table.iloc[0]\n",
    "    assert row[\"method\"] == \"M1\"\n",
    "    assert row[\"accuracy\"] == pytest.approx(0.85)\n",
    "    b_table = results[\"B\"]\n",
    "    assert b_table.iloc[0][\"method\"] == \"M2\""
   ]
  }
 ],
 "metadata": {
  "jupytext": {
   "cell_metadata_filter": "-all",
   "main_language": "python",
   "notebook_metadata_filter": "-all"
  }
 },
 "nbformat": 4,
 "nbformat_minor": 5
}
